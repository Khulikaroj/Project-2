{
 "cells": [
  {
   "cell_type": "markdown",
   "metadata": {},
   "source": [
    "# DJ 30 Trading BOT\n"
   ]
  },
  {
   "cell_type": "markdown",
   "metadata": {},
   "source": [
    "In this project, we try to build a trading Bot which rely trading decicion on a Machine Learning of 3 main components that we beleive that are important on determining trading strategy and timing. These components are Fundamental, Technical, and Sentiment In each component, we biuld buy/sell signals based on the represent indicators. Benefit from haveing Bot trading DJ 30 is to rely decision on these signals we have from the core components and reduce emotion from determining strategy and timing to get in and out of DJ 30. \n",
    "\n",
    "DJ 30 are AXP, AMGN, AAPL, BA, CAT, CSCO, CVX, GS, HD, HON, IBM, INTC, JNJ, KO, JPM, MCD, MMM, MRK, MSFT, NKE, PG, TRV, UNH, CRM, VZ, V, WBA, WMT, DIS, DOW"
   ]
  },
  {
   "cell_type": "code",
   "execution_count": 88,
   "metadata": {},
   "outputs": [
    {
     "name": "stdout",
     "output_type": "stream",
     "text": [
      "Libraries imported\n"
     ]
    }
   ],
   "source": [
    "#Import libraries\n",
    "import numpy as np\n",
    "import pandas as pd\n",
    "#import ta\n",
    "import os\n",
    "import ffn as ffn\n",
    "import bt\n",
    "\n",
    "from datetime import datetime, timedelta\n",
    "\n",
    "import hvplot.pandas\n",
    "import yfinance as yf\n",
    "import matplotlib.pyplot as plt\n",
    "plt.style.use\n",
    "%matplotlib inline\n",
    "print(\"Libraries imported\")"
   ]
  },
  {
   "cell_type": "markdown",
   "metadata": {},
   "source": [
    "## Functions"
   ]
  },
  {
   "cell_type": "code",
   "execution_count": 89,
   "metadata": {},
   "outputs": [],
   "source": [
    "#Function for building data of each stock in Long horizon coverage\n",
    "def build_input_long(ticker):\n",
    "    stocks = ticker\n",
    "    end_date = datetime.now() - timedelta(3)\n",
    "    start_date = end_date - timedelta(365*1)\n",
    "    data = yf.download(stocks, start=start_date, end=end_date)\n",
    "    data = data['Close'].dropna()\n",
    "    return_df = data.pct_change()\n",
    "    return_df = return_df.dropna()\n",
    "    filter_fundamental_df  = fundamental_df[fundamental_df.Ticker.isin([ticker])]\n",
    "    filter_rsi_df  = rsi_df[rsi_df.Ticker.isin([ticker])]\n",
    "    filter_sentiment_df  = sentiment_df[sentiment_df.Ticker.isin([ticker])]\n",
    "    df= pd.concat([return_df,filter_fundamental_df,filter_rsi_df,filter_sentiment_df], axis=1, join='outer')\n",
    "    df.drop('Ticker', axis=1, inplace=True)\n",
    "    df = df[df['Close'].notna()]\n",
    "    df['Positive_Return'] = np.where(df['Close'] > 0, 1.0, 0.0)\n",
    "    return df"
   ]
  },
  {
   "cell_type": "code",
   "execution_count": 90,
   "metadata": {},
   "outputs": [],
   "source": [
    "#Function for building data of each stock in Short horizon coverage\n",
    "def build_input_short(ticker):\n",
    "    stocks = ticker\n",
    "    end_date = datetime.now() - timedelta(3)\n",
    "    start_date = end_date - timedelta(33)\n",
    "    data = yf.download(stocks, start=start_date, end=end_date)\n",
    "    data = data['Close'].dropna()\n",
    "    return_df = data.pct_change()\n",
    "    return_df = return_df.dropna()\n",
    "    filter_fundamental_df  = fundamental_df[fundamental_df.Ticker.isin([ticker])]\n",
    "    filter_rsi_df  = rsi_df[rsi_df.Ticker.isin([ticker])]\n",
    "    filter_sentiment_df  = sentiment_df[sentiment_df.Ticker.isin([ticker])]\n",
    "    df= pd.concat([return_df,filter_fundamental_df,filter_rsi_df,filter_sentiment_df], axis=1, join='outer')\n",
    "    df.drop('Ticker', axis=1, inplace=True)\n",
    "    df = df[df['Close'].notna()]\n",
    "    df['Positive_Return'] = np.where(df['Close'] > 0, 1.0, 0.0)\n",
    "    return df"
   ]
  },
  {
   "cell_type": "code",
   "execution_count": 91,
   "metadata": {},
   "outputs": [],
   "source": [
    "#Data Preparation Function (Long Horizon)\n",
    "#x_var_list_long = [\"ROE_Sig\", \"OpMargin_Sig\",\"DebtEq_Sig\",\"Fscore_Sig\",\"RSI\"]\n",
    "\n",
    "def X_train_long(df):\n",
    "    x_var_list_long = [\"ROE_Sig\", \"OpMargin_Sig\",\"DebtEq_Sig\",\"Fscore_Sig\",\"RSI\"]\n",
    "    X = df[x_var_list_long].shift(1)\n",
    "    split = int(0.7 * len(df.Close))\n",
    "    X_train = X[: split].dropna()   \n",
    "    return X_train\n",
    "\n",
    "def X_test_long(df):\n",
    "    x_var_list_long = [\"ROE_Sig\", \"OpMargin_Sig\",\"DebtEq_Sig\",\"Fscore_Sig\",\"RSI\"]\n",
    "    split = int(0.7 * len(df.Close))\n",
    "    X = df[x_var_list_long].shift(1)\n",
    "    X_test = X[split:].dropna()\n",
    "    return X_test\n",
    "\n",
    "\n",
    "def y_train_long(df):\n",
    "    y = df[\"Positive_Return\"]\n",
    "    split = int(0.7 * len(df.Close))\n",
    "    y_train = y[1: split].dropna()\n",
    "    return y_train\n",
    "\n",
    "def y_test_long(df):\n",
    "    y = df[\"Positive_Return\"]\n",
    "    split = int(0.7 * len(df.Close))\n",
    "    y_test = y[split:-1].dropna()\n",
    "    return y_test"
   ]
  },
  {
   "cell_type": "code",
   "execution_count": 92,
   "metadata": {},
   "outputs": [],
   "source": [
    "#Data Preparation Function (Short Horizon)\n",
    "#x_var_list_short = [\"ROE_Sig\", \"OpMargin_Sig\",\"DebtEq_Sig\",\"Fscore_Sig\",\"RSI\",\"Sentiment\"]\n",
    "def X_train_short(df):\n",
    "    x_var_list_short = [\"ROE_Sig\", \"OpMargin_Sig\",\"DebtEq_Sig\",\"Fscore_Sig\",\"RSI\",\"Sentiment\"]\n",
    "    X = df[x_var_list_short].shift(1)\n",
    "    split = int(0.7 * len(df.Close))\n",
    "    X_train = X[: split].dropna()   \n",
    "    return X_train\n",
    "\n",
    "def X_test_short(df):\n",
    "    x_var_list_short = [\"ROE_Sig\", \"OpMargin_Sig\",\"DebtEq_Sig\",\"Fscore_Sig\",\"RSI\",\"Sentiment\"]\n",
    "    X = df[x_var_list_short].shift(1)\n",
    "    split = int(0.7 * len(df.Close))\n",
    "    X_test = X[split:].dropna()\n",
    "    return X_test\n",
    "\n",
    "def y_train_short(df):\n",
    "    y = df[\"Positive_Return\"]\n",
    "    split = int(0.7 * len(df.Close))\n",
    "    y_train = y[1: split].dropna()\n",
    "    return y_train\n",
    "\n",
    "def y_test_short(df):\n",
    "    y = df[\"Positive_Return\"]\n",
    "    split = int(0.7 * len(df.Close))\n",
    "    y_test = y[split:-1].dropna()\n",
    "    return y_test"
   ]
  },
  {
   "cell_type": "code",
   "execution_count": 93,
   "metadata": {},
   "outputs": [],
   "source": [
    "#ML function\n",
    "def random_forest(X_train, X_test, y_train, y_test):\n",
    "    from sklearn.ensemble import RandomForestClassifier\n",
    "    from sklearn.datasets import make_classification\n",
    "    model = RandomForestClassifier(n_estimators=100, max_depth=3, random_state=0)\n",
    "    model.fit(X_train, y_train)\n",
    "    predictions = model.predict(X_test)\n",
    "    predictions = model.predict(X_test)\n",
    "    results = y_test.to_frame()\n",
    "    results[\"Predicted_Value\"] = predictions\n",
    "    return results"
   ]
  },
  {
   "cell_type": "markdown",
   "metadata": {},
   "source": [
    "## Features"
   ]
  },
  {
   "cell_type": "markdown",
   "metadata": {},
   "source": [
    "We build signal data  from 3 main components which are..\n",
    "1. Fundamental: ROE, Operation margin, Debt-to-Equity ratio, and Pietroskie F-score\n",
    "2. Technical: Bollinger Band, RSI, MACD\n",
    "3. Sentiment: News relevant to company name\n",
    "Sources of these data are XXX, Yahoo Finance, and News API.\n",
    "However, we can pull News API by just 1 month back bacause of limitation of using trial account. With this limitation, we plan to split the data  into long-horizon and short-horizon data sets. In thr longer-horizon data, the features used in ML model are just Fundamental and Technical. For short-horizon, all 3 main features will be included in the ML model."
   ]
  },
  {
   "cell_type": "code",
   "execution_count": 94,
   "metadata": {},
   "outputs": [],
   "source": [
    "#Import cvs\n",
    "#Fundamental\n",
    "fundamental_df = pd.read_csv(r\"C:\\Users\\khuli\\OneDrive\\Documents\\BCS\\Project2\\fundamental_signal.csv\")\n",
    "fundamental_df.set_index(pd.to_datetime(fundamental_df['Date'], infer_datetime_format=True), inplace=True)\n",
    "fundamental_df.drop(columns=['Date'], inplace=True)\n",
    "\n",
    "\n",
    "#Technical\n",
    "#technical_df = pd.read_csv(r\"C:\\Users\\khuli\\OneDrive\\Documents\\BCS\\Project2\\technical_signal.csv\")\n",
    "rsi_df = pd.read_csv(r\"C:\\Users\\khuli\\OneDrive\\Documents\\BCS\\Project2\\rsi_signal.csv\")\n",
    "rsi_df.set_index(pd.to_datetime(rsi_df['Date'], infer_datetime_format=True), inplace=True)\n",
    "rsi_df.drop(columns=['Date'], inplace=True)\n",
    "#macd_df = pd.read_csv(r\"C:\\Users\\khuli\\OneDrive\\Documents\\BCS\\Project2\\rsi_signal.csv\")\n",
    "\n",
    "#Sentiment\n",
    "sentiment_df = pd.read_csv(r\"C:\\Users\\khuli\\OneDrive\\Documents\\BCS\\Project2\\sentiment_signal.csv\")\n",
    "sentiment_df.set_index(pd.to_datetime(sentiment_df['Date'], infer_datetime_format=True), inplace=True)\n",
    "sentiment_df.drop(columns=['Date'], inplace=True)\n"
   ]
  },
  {
   "cell_type": "code",
   "execution_count": 95,
   "metadata": {},
   "outputs": [
    {
     "data": {
      "text/html": [
       "<div>\n",
       "<style scoped>\n",
       "    .dataframe tbody tr th:only-of-type {\n",
       "        vertical-align: middle;\n",
       "    }\n",
       "\n",
       "    .dataframe tbody tr th {\n",
       "        vertical-align: top;\n",
       "    }\n",
       "\n",
       "    .dataframe thead th {\n",
       "        text-align: right;\n",
       "    }\n",
       "</style>\n",
       "<table border=\"1\" class=\"dataframe\">\n",
       "  <thead>\n",
       "    <tr style=\"text-align: right;\">\n",
       "      <th></th>\n",
       "      <th>Ticker</th>\n",
       "      <th>Signal</th>\n",
       "      <th>ROE_Sig</th>\n",
       "      <th>OpMargin_Sig</th>\n",
       "      <th>DebtEq_Sig</th>\n",
       "      <th>Fscore_Sig</th>\n",
       "    </tr>\n",
       "    <tr>\n",
       "      <th>Date</th>\n",
       "      <th></th>\n",
       "      <th></th>\n",
       "      <th></th>\n",
       "      <th></th>\n",
       "      <th></th>\n",
       "      <th></th>\n",
       "    </tr>\n",
       "  </thead>\n",
       "  <tbody>\n",
       "    <tr>\n",
       "      <th>2007-01-03</th>\n",
       "      <td>AAPL</td>\n",
       "      <td>0.0</td>\n",
       "      <td>1.0</td>\n",
       "      <td>1.0</td>\n",
       "      <td>1.0</td>\n",
       "      <td>0.0</td>\n",
       "    </tr>\n",
       "    <tr>\n",
       "      <th>2007-01-04</th>\n",
       "      <td>AAPL</td>\n",
       "      <td>0.0</td>\n",
       "      <td>1.0</td>\n",
       "      <td>1.0</td>\n",
       "      <td>1.0</td>\n",
       "      <td>0.0</td>\n",
       "    </tr>\n",
       "    <tr>\n",
       "      <th>2007-01-05</th>\n",
       "      <td>AAPL</td>\n",
       "      <td>0.0</td>\n",
       "      <td>1.0</td>\n",
       "      <td>1.0</td>\n",
       "      <td>1.0</td>\n",
       "      <td>0.0</td>\n",
       "    </tr>\n",
       "    <tr>\n",
       "      <th>2007-01-08</th>\n",
       "      <td>AAPL</td>\n",
       "      <td>0.0</td>\n",
       "      <td>1.0</td>\n",
       "      <td>1.0</td>\n",
       "      <td>1.0</td>\n",
       "      <td>0.0</td>\n",
       "    </tr>\n",
       "    <tr>\n",
       "      <th>2007-01-09</th>\n",
       "      <td>AAPL</td>\n",
       "      <td>0.0</td>\n",
       "      <td>1.0</td>\n",
       "      <td>1.0</td>\n",
       "      <td>1.0</td>\n",
       "      <td>0.0</td>\n",
       "    </tr>\n",
       "  </tbody>\n",
       "</table>\n",
       "</div>"
      ],
      "text/plain": [
       "           Ticker  Signal  ROE_Sig  OpMargin_Sig  DebtEq_Sig  Fscore_Sig\n",
       "Date                                                                    \n",
       "2007-01-03   AAPL     0.0      1.0           1.0         1.0         0.0\n",
       "2007-01-04   AAPL     0.0      1.0           1.0         1.0         0.0\n",
       "2007-01-05   AAPL     0.0      1.0           1.0         1.0         0.0\n",
       "2007-01-08   AAPL     0.0      1.0           1.0         1.0         0.0\n",
       "2007-01-09   AAPL     0.0      1.0           1.0         1.0         0.0"
      ]
     },
     "execution_count": 95,
     "metadata": {},
     "output_type": "execute_result"
    }
   ],
   "source": [
    "fundamental_df.head()"
   ]
  },
  {
   "cell_type": "code",
   "execution_count": 96,
   "metadata": {},
   "outputs": [
    {
     "data": {
      "text/html": [
       "<div>\n",
       "<style scoped>\n",
       "    .dataframe tbody tr th:only-of-type {\n",
       "        vertical-align: middle;\n",
       "    }\n",
       "\n",
       "    .dataframe tbody tr th {\n",
       "        vertical-align: top;\n",
       "    }\n",
       "\n",
       "    .dataframe thead th {\n",
       "        text-align: right;\n",
       "    }\n",
       "</style>\n",
       "<table border=\"1\" class=\"dataframe\">\n",
       "  <thead>\n",
       "    <tr style=\"text-align: right;\">\n",
       "      <th></th>\n",
       "      <th>Ticker</th>\n",
       "      <th>Sentiment</th>\n",
       "    </tr>\n",
       "    <tr>\n",
       "      <th>Date</th>\n",
       "      <th></th>\n",
       "      <th></th>\n",
       "    </tr>\n",
       "  </thead>\n",
       "  <tbody>\n",
       "    <tr>\n",
       "      <th>2020-09-12</th>\n",
       "      <td>AXP</td>\n",
       "      <td>0</td>\n",
       "    </tr>\n",
       "    <tr>\n",
       "      <th>2020-09-13</th>\n",
       "      <td>AXP</td>\n",
       "      <td>0</td>\n",
       "    </tr>\n",
       "    <tr>\n",
       "      <th>2020-09-14</th>\n",
       "      <td>AXP</td>\n",
       "      <td>0</td>\n",
       "    </tr>\n",
       "    <tr>\n",
       "      <th>2020-09-15</th>\n",
       "      <td>AXP</td>\n",
       "      <td>0</td>\n",
       "    </tr>\n",
       "    <tr>\n",
       "      <th>2020-09-16</th>\n",
       "      <td>AXP</td>\n",
       "      <td>1</td>\n",
       "    </tr>\n",
       "  </tbody>\n",
       "</table>\n",
       "</div>"
      ],
      "text/plain": [
       "           Ticker  Sentiment\n",
       "Date                        \n",
       "2020-09-12    AXP          0\n",
       "2020-09-13    AXP          0\n",
       "2020-09-14    AXP          0\n",
       "2020-09-15    AXP          0\n",
       "2020-09-16    AXP          1"
      ]
     },
     "execution_count": 96,
     "metadata": {},
     "output_type": "execute_result"
    }
   ],
   "source": [
    "sentiment_df.head()"
   ]
  },
  {
   "cell_type": "code",
   "execution_count": 97,
   "metadata": {},
   "outputs": [
    {
     "data": {
      "text/html": [
       "<div>\n",
       "<style scoped>\n",
       "    .dataframe tbody tr th:only-of-type {\n",
       "        vertical-align: middle;\n",
       "    }\n",
       "\n",
       "    .dataframe tbody tr th {\n",
       "        vertical-align: top;\n",
       "    }\n",
       "\n",
       "    .dataframe thead th {\n",
       "        text-align: right;\n",
       "    }\n",
       "</style>\n",
       "<table border=\"1\" class=\"dataframe\">\n",
       "  <thead>\n",
       "    <tr style=\"text-align: right;\">\n",
       "      <th></th>\n",
       "      <th>Ticker</th>\n",
       "      <th>RSI</th>\n",
       "    </tr>\n",
       "    <tr>\n",
       "      <th>Date</th>\n",
       "      <th></th>\n",
       "      <th></th>\n",
       "    </tr>\n",
       "  </thead>\n",
       "  <tbody>\n",
       "    <tr>\n",
       "      <th>2019-04-09</th>\n",
       "      <td>AAPL</td>\n",
       "      <td>-1</td>\n",
       "    </tr>\n",
       "    <tr>\n",
       "      <th>2019-04-10</th>\n",
       "      <td>AAPL</td>\n",
       "      <td>-1</td>\n",
       "    </tr>\n",
       "    <tr>\n",
       "      <th>2019-04-11</th>\n",
       "      <td>AAPL</td>\n",
       "      <td>0</td>\n",
       "    </tr>\n",
       "    <tr>\n",
       "      <th>2019-04-12</th>\n",
       "      <td>AAPL</td>\n",
       "      <td>0</td>\n",
       "    </tr>\n",
       "    <tr>\n",
       "      <th>2019-04-15</th>\n",
       "      <td>AAPL</td>\n",
       "      <td>0</td>\n",
       "    </tr>\n",
       "  </tbody>\n",
       "</table>\n",
       "</div>"
      ],
      "text/plain": [
       "           Ticker  RSI\n",
       "Date                  \n",
       "2019-04-09   AAPL   -1\n",
       "2019-04-10   AAPL   -1\n",
       "2019-04-11   AAPL    0\n",
       "2019-04-12   AAPL    0\n",
       "2019-04-15   AAPL    0"
      ]
     },
     "execution_count": 97,
     "metadata": {},
     "output_type": "execute_result"
    }
   ],
   "source": [
    "rsi_df.head()"
   ]
  },
  {
   "cell_type": "markdown",
   "metadata": {},
   "source": [
    "## DF management preparation"
   ]
  },
  {
   "cell_type": "markdown",
   "metadata": {},
   "source": [
    "We split ML into (1) Long-horizon model and (2) Short horizon model because of limitation from getting sentiment signal"
   ]
  },
  {
   "cell_type": "markdown",
   "metadata": {},
   "source": [
    "### DF for Longer horizon coverage"
   ]
  },
  {
   "cell_type": "code",
   "execution_count": 98,
   "metadata": {},
   "outputs": [],
   "source": [
    "ticker = \"INTC\""
   ]
  },
  {
   "cell_type": "code",
   "execution_count": 99,
   "metadata": {},
   "outputs": [
    {
     "name": "stdout",
     "output_type": "stream",
     "text": [
      "[*********************100%***********************]  1 of 1 completed\n"
     ]
    },
    {
     "data": {
      "text/html": [
       "<div>\n",
       "<style scoped>\n",
       "    .dataframe tbody tr th:only-of-type {\n",
       "        vertical-align: middle;\n",
       "    }\n",
       "\n",
       "    .dataframe tbody tr th {\n",
       "        vertical-align: top;\n",
       "    }\n",
       "\n",
       "    .dataframe thead th {\n",
       "        text-align: right;\n",
       "    }\n",
       "</style>\n",
       "<table border=\"1\" class=\"dataframe\">\n",
       "  <thead>\n",
       "    <tr style=\"text-align: right;\">\n",
       "      <th></th>\n",
       "      <th>Close</th>\n",
       "      <th>Signal</th>\n",
       "      <th>ROE_Sig</th>\n",
       "      <th>OpMargin_Sig</th>\n",
       "      <th>DebtEq_Sig</th>\n",
       "      <th>Fscore_Sig</th>\n",
       "      <th>RSI</th>\n",
       "      <th>Sentiment</th>\n",
       "      <th>Positive_Return</th>\n",
       "    </tr>\n",
       "    <tr>\n",
       "      <th>Date</th>\n",
       "      <th></th>\n",
       "      <th></th>\n",
       "      <th></th>\n",
       "      <th></th>\n",
       "      <th></th>\n",
       "      <th></th>\n",
       "      <th></th>\n",
       "      <th></th>\n",
       "      <th></th>\n",
       "    </tr>\n",
       "  </thead>\n",
       "  <tbody>\n",
       "    <tr>\n",
       "      <th>2020-09-30</th>\n",
       "      <td>0.011526</td>\n",
       "      <td>0.0</td>\n",
       "      <td>1.0</td>\n",
       "      <td>1.0</td>\n",
       "      <td>1.0</td>\n",
       "      <td>0.0</td>\n",
       "      <td>0.0</td>\n",
       "      <td>0.0</td>\n",
       "      <td>1.0</td>\n",
       "    </tr>\n",
       "    <tr>\n",
       "      <th>2020-10-01</th>\n",
       "      <td>0.008884</td>\n",
       "      <td>0.0</td>\n",
       "      <td>1.0</td>\n",
       "      <td>1.0</td>\n",
       "      <td>1.0</td>\n",
       "      <td>0.0</td>\n",
       "      <td>0.0</td>\n",
       "      <td>0.0</td>\n",
       "      <td>1.0</td>\n",
       "    </tr>\n",
       "    <tr>\n",
       "      <th>2020-10-02</th>\n",
       "      <td>-0.023545</td>\n",
       "      <td>0.0</td>\n",
       "      <td>1.0</td>\n",
       "      <td>1.0</td>\n",
       "      <td>1.0</td>\n",
       "      <td>0.0</td>\n",
       "      <td>0.0</td>\n",
       "      <td>0.0</td>\n",
       "      <td>0.0</td>\n",
       "    </tr>\n",
       "    <tr>\n",
       "      <th>2020-10-05</th>\n",
       "      <td>0.013331</td>\n",
       "      <td>0.0</td>\n",
       "      <td>1.0</td>\n",
       "      <td>1.0</td>\n",
       "      <td>1.0</td>\n",
       "      <td>0.0</td>\n",
       "      <td>0.0</td>\n",
       "      <td>0.0</td>\n",
       "      <td>1.0</td>\n",
       "    </tr>\n",
       "    <tr>\n",
       "      <th>2020-10-06</th>\n",
       "      <td>-0.006191</td>\n",
       "      <td>0.0</td>\n",
       "      <td>1.0</td>\n",
       "      <td>1.0</td>\n",
       "      <td>1.0</td>\n",
       "      <td>0.0</td>\n",
       "      <td>0.0</td>\n",
       "      <td>0.0</td>\n",
       "      <td>0.0</td>\n",
       "    </tr>\n",
       "    <tr>\n",
       "      <th>2020-10-07</th>\n",
       "      <td>0.025307</td>\n",
       "      <td>0.0</td>\n",
       "      <td>1.0</td>\n",
       "      <td>1.0</td>\n",
       "      <td>1.0</td>\n",
       "      <td>0.0</td>\n",
       "      <td>0.0</td>\n",
       "      <td>0.0</td>\n",
       "      <td>1.0</td>\n",
       "    </tr>\n",
       "    <tr>\n",
       "      <th>2020-10-08</th>\n",
       "      <td>0.013290</td>\n",
       "      <td>0.0</td>\n",
       "      <td>1.0</td>\n",
       "      <td>1.0</td>\n",
       "      <td>1.0</td>\n",
       "      <td>0.0</td>\n",
       "      <td>0.0</td>\n",
       "      <td>0.0</td>\n",
       "      <td>1.0</td>\n",
       "    </tr>\n",
       "    <tr>\n",
       "      <th>2020-10-09</th>\n",
       "      <td>-0.010305</td>\n",
       "      <td>0.0</td>\n",
       "      <td>1.0</td>\n",
       "      <td>1.0</td>\n",
       "      <td>1.0</td>\n",
       "      <td>0.0</td>\n",
       "      <td>0.0</td>\n",
       "      <td>0.0</td>\n",
       "      <td>0.0</td>\n",
       "    </tr>\n",
       "    <tr>\n",
       "      <th>2020-10-12</th>\n",
       "      <td>0.020068</td>\n",
       "      <td>NaN</td>\n",
       "      <td>NaN</td>\n",
       "      <td>NaN</td>\n",
       "      <td>NaN</td>\n",
       "      <td>NaN</td>\n",
       "      <td>0.0</td>\n",
       "      <td>0.0</td>\n",
       "      <td>1.0</td>\n",
       "    </tr>\n",
       "    <tr>\n",
       "      <th>2020-10-13</th>\n",
       "      <td>-0.000928</td>\n",
       "      <td>0.0</td>\n",
       "      <td>1.0</td>\n",
       "      <td>1.0</td>\n",
       "      <td>1.0</td>\n",
       "      <td>0.0</td>\n",
       "      <td>0.0</td>\n",
       "      <td>1.0</td>\n",
       "      <td>0.0</td>\n",
       "    </tr>\n",
       "  </tbody>\n",
       "</table>\n",
       "</div>"
      ],
      "text/plain": [
       "               Close  Signal  ROE_Sig  OpMargin_Sig  DebtEq_Sig  Fscore_Sig  \\\n",
       "Date                                                                          \n",
       "2020-09-30  0.011526     0.0      1.0           1.0         1.0         0.0   \n",
       "2020-10-01  0.008884     0.0      1.0           1.0         1.0         0.0   \n",
       "2020-10-02 -0.023545     0.0      1.0           1.0         1.0         0.0   \n",
       "2020-10-05  0.013331     0.0      1.0           1.0         1.0         0.0   \n",
       "2020-10-06 -0.006191     0.0      1.0           1.0         1.0         0.0   \n",
       "2020-10-07  0.025307     0.0      1.0           1.0         1.0         0.0   \n",
       "2020-10-08  0.013290     0.0      1.0           1.0         1.0         0.0   \n",
       "2020-10-09 -0.010305     0.0      1.0           1.0         1.0         0.0   \n",
       "2020-10-12  0.020068     NaN      NaN           NaN         NaN         NaN   \n",
       "2020-10-13 -0.000928     0.0      1.0           1.0         1.0         0.0   \n",
       "\n",
       "            RSI  Sentiment  Positive_Return  \n",
       "Date                                         \n",
       "2020-09-30  0.0        0.0              1.0  \n",
       "2020-10-01  0.0        0.0              1.0  \n",
       "2020-10-02  0.0        0.0              0.0  \n",
       "2020-10-05  0.0        0.0              1.0  \n",
       "2020-10-06  0.0        0.0              0.0  \n",
       "2020-10-07  0.0        0.0              1.0  \n",
       "2020-10-08  0.0        0.0              1.0  \n",
       "2020-10-09  0.0        0.0              0.0  \n",
       "2020-10-12  0.0        0.0              1.0  \n",
       "2020-10-13  0.0        1.0              0.0  "
      ]
     },
     "execution_count": 99,
     "metadata": {},
     "output_type": "execute_result"
    }
   ],
   "source": [
    "# df for Long horizon model\n",
    "df = build_input_long(ticker)\n",
    "df.tail(10)"
   ]
  },
  {
   "cell_type": "markdown",
   "metadata": {},
   "source": [
    "### DF for Shorter horizon coverage"
   ]
  },
  {
   "cell_type": "code",
   "execution_count": 100,
   "metadata": {},
   "outputs": [
    {
     "name": "stdout",
     "output_type": "stream",
     "text": [
      "[*********************100%***********************]  1 of 1 completed\n"
     ]
    },
    {
     "data": {
      "text/html": [
       "<div>\n",
       "<style scoped>\n",
       "    .dataframe tbody tr th:only-of-type {\n",
       "        vertical-align: middle;\n",
       "    }\n",
       "\n",
       "    .dataframe tbody tr th {\n",
       "        vertical-align: top;\n",
       "    }\n",
       "\n",
       "    .dataframe thead th {\n",
       "        text-align: right;\n",
       "    }\n",
       "</style>\n",
       "<table border=\"1\" class=\"dataframe\">\n",
       "  <thead>\n",
       "    <tr style=\"text-align: right;\">\n",
       "      <th></th>\n",
       "      <th>Close</th>\n",
       "      <th>Signal</th>\n",
       "      <th>ROE_Sig</th>\n",
       "      <th>OpMargin_Sig</th>\n",
       "      <th>DebtEq_Sig</th>\n",
       "      <th>Fscore_Sig</th>\n",
       "      <th>RSI</th>\n",
       "      <th>Sentiment</th>\n",
       "      <th>Positive_Return</th>\n",
       "    </tr>\n",
       "    <tr>\n",
       "      <th>Date</th>\n",
       "      <th></th>\n",
       "      <th></th>\n",
       "      <th></th>\n",
       "      <th></th>\n",
       "      <th></th>\n",
       "      <th></th>\n",
       "      <th></th>\n",
       "      <th></th>\n",
       "      <th></th>\n",
       "    </tr>\n",
       "  </thead>\n",
       "  <tbody>\n",
       "    <tr>\n",
       "      <th>2020-10-06</th>\n",
       "      <td>-0.006191</td>\n",
       "      <td>0.0</td>\n",
       "      <td>1.0</td>\n",
       "      <td>1.0</td>\n",
       "      <td>1.0</td>\n",
       "      <td>0.0</td>\n",
       "      <td>0.0</td>\n",
       "      <td>0.0</td>\n",
       "      <td>0.0</td>\n",
       "    </tr>\n",
       "    <tr>\n",
       "      <th>2020-09-25</th>\n",
       "      <td>0.015867</td>\n",
       "      <td>0.0</td>\n",
       "      <td>1.0</td>\n",
       "      <td>1.0</td>\n",
       "      <td>1.0</td>\n",
       "      <td>0.0</td>\n",
       "      <td>0.0</td>\n",
       "      <td>0.0</td>\n",
       "      <td>1.0</td>\n",
       "    </tr>\n",
       "    <tr>\n",
       "      <th>2020-10-02</th>\n",
       "      <td>-0.023545</td>\n",
       "      <td>0.0</td>\n",
       "      <td>1.0</td>\n",
       "      <td>1.0</td>\n",
       "      <td>1.0</td>\n",
       "      <td>0.0</td>\n",
       "      <td>0.0</td>\n",
       "      <td>0.0</td>\n",
       "      <td>0.0</td>\n",
       "    </tr>\n",
       "    <tr>\n",
       "      <th>2020-09-29</th>\n",
       "      <td>-0.004667</td>\n",
       "      <td>0.0</td>\n",
       "      <td>1.0</td>\n",
       "      <td>1.0</td>\n",
       "      <td>1.0</td>\n",
       "      <td>0.0</td>\n",
       "      <td>0.0</td>\n",
       "      <td>0.0</td>\n",
       "      <td>0.0</td>\n",
       "    </tr>\n",
       "    <tr>\n",
       "      <th>2020-09-16</th>\n",
       "      <td>0.007400</td>\n",
       "      <td>0.0</td>\n",
       "      <td>1.0</td>\n",
       "      <td>1.0</td>\n",
       "      <td>1.0</td>\n",
       "      <td>0.0</td>\n",
       "      <td>0.0</td>\n",
       "      <td>1.0</td>\n",
       "      <td>1.0</td>\n",
       "    </tr>\n",
       "    <tr>\n",
       "      <th>2020-09-18</th>\n",
       "      <td>-0.008545</td>\n",
       "      <td>0.0</td>\n",
       "      <td>1.0</td>\n",
       "      <td>1.0</td>\n",
       "      <td>1.0</td>\n",
       "      <td>0.0</td>\n",
       "      <td>0.0</td>\n",
       "      <td>0.0</td>\n",
       "      <td>0.0</td>\n",
       "    </tr>\n",
       "    <tr>\n",
       "      <th>2020-10-09</th>\n",
       "      <td>-0.010305</td>\n",
       "      <td>0.0</td>\n",
       "      <td>1.0</td>\n",
       "      <td>1.0</td>\n",
       "      <td>1.0</td>\n",
       "      <td>0.0</td>\n",
       "      <td>0.0</td>\n",
       "      <td>0.0</td>\n",
       "      <td>0.0</td>\n",
       "    </tr>\n",
       "    <tr>\n",
       "      <th>2020-10-05</th>\n",
       "      <td>0.013331</td>\n",
       "      <td>0.0</td>\n",
       "      <td>1.0</td>\n",
       "      <td>1.0</td>\n",
       "      <td>1.0</td>\n",
       "      <td>0.0</td>\n",
       "      <td>0.0</td>\n",
       "      <td>0.0</td>\n",
       "      <td>1.0</td>\n",
       "    </tr>\n",
       "    <tr>\n",
       "      <th>2020-10-12</th>\n",
       "      <td>0.020068</td>\n",
       "      <td>NaN</td>\n",
       "      <td>NaN</td>\n",
       "      <td>NaN</td>\n",
       "      <td>NaN</td>\n",
       "      <td>NaN</td>\n",
       "      <td>0.0</td>\n",
       "      <td>0.0</td>\n",
       "      <td>1.0</td>\n",
       "    </tr>\n",
       "    <tr>\n",
       "      <th>2020-09-30</th>\n",
       "      <td>0.011526</td>\n",
       "      <td>0.0</td>\n",
       "      <td>1.0</td>\n",
       "      <td>1.0</td>\n",
       "      <td>1.0</td>\n",
       "      <td>0.0</td>\n",
       "      <td>0.0</td>\n",
       "      <td>0.0</td>\n",
       "      <td>1.0</td>\n",
       "    </tr>\n",
       "  </tbody>\n",
       "</table>\n",
       "</div>"
      ],
      "text/plain": [
       "               Close  Signal  ROE_Sig  OpMargin_Sig  DebtEq_Sig  Fscore_Sig  \\\n",
       "Date                                                                          \n",
       "2020-10-06 -0.006191     0.0      1.0           1.0         1.0         0.0   \n",
       "2020-09-25  0.015867     0.0      1.0           1.0         1.0         0.0   \n",
       "2020-10-02 -0.023545     0.0      1.0           1.0         1.0         0.0   \n",
       "2020-09-29 -0.004667     0.0      1.0           1.0         1.0         0.0   \n",
       "2020-09-16  0.007400     0.0      1.0           1.0         1.0         0.0   \n",
       "2020-09-18 -0.008545     0.0      1.0           1.0         1.0         0.0   \n",
       "2020-10-09 -0.010305     0.0      1.0           1.0         1.0         0.0   \n",
       "2020-10-05  0.013331     0.0      1.0           1.0         1.0         0.0   \n",
       "2020-10-12  0.020068     NaN      NaN           NaN         NaN         NaN   \n",
       "2020-09-30  0.011526     0.0      1.0           1.0         1.0         0.0   \n",
       "\n",
       "            RSI  Sentiment  Positive_Return  \n",
       "Date                                         \n",
       "2020-10-06  0.0        0.0              0.0  \n",
       "2020-09-25  0.0        0.0              1.0  \n",
       "2020-10-02  0.0        0.0              0.0  \n",
       "2020-09-29  0.0        0.0              0.0  \n",
       "2020-09-16  0.0        1.0              1.0  \n",
       "2020-09-18  0.0        0.0              0.0  \n",
       "2020-10-09  0.0        0.0              0.0  \n",
       "2020-10-05  0.0        0.0              1.0  \n",
       "2020-10-12  0.0        0.0              1.0  \n",
       "2020-09-30  0.0        0.0              1.0  "
      ]
     },
     "execution_count": 100,
     "metadata": {},
     "output_type": "execute_result"
    }
   ],
   "source": [
    "# df for Short horizon model\n",
    "df_2 = build_input_short(ticker)\n",
    "df_2.sample(10)"
   ]
  },
  {
   "cell_type": "markdown",
   "metadata": {},
   "source": [
    "## Split Data"
   ]
  },
  {
   "cell_type": "markdown",
   "metadata": {},
   "source": [
    "### Split data for Longer horizon"
   ]
  },
  {
   "cell_type": "code",
   "execution_count": 101,
   "metadata": {},
   "outputs": [],
   "source": [
    "X_train = X_train_long(df)\n",
    "X_test = X_test_long(df)\n",
    "y_train = y_train_long(df)\n",
    "y_test = y_test_long(df)"
   ]
  },
  {
   "cell_type": "markdown",
   "metadata": {},
   "source": [
    "### Split data for Shorter horizon"
   ]
  },
  {
   "cell_type": "code",
   "execution_count": 102,
   "metadata": {},
   "outputs": [],
   "source": [
    "X_train_2 = X_train_short(df_2)\n",
    "X_test_2 = X_test_short(df_2)\n",
    "y_train_2 = y_train_short(df_2)\n",
    "y_test_2 = y_test_short(df_2)"
   ]
  },
  {
   "cell_type": "markdown",
   "metadata": {},
   "source": [
    "## Machine Learning"
   ]
  },
  {
   "cell_type": "markdown",
   "metadata": {},
   "source": [
    "### Long-Horizon ML model, plot and evaluation"
   ]
  },
  {
   "cell_type": "code",
   "execution_count": 103,
   "metadata": {},
   "outputs": [
    {
     "name": "stdout",
     "output_type": "stream",
     "text": [
      "              precision    recall  f1-score   support\n",
      "\n",
      "         0.0       0.42      0.77      0.55        35\n",
      "         1.0       0.27      0.07      0.12        40\n",
      "\n",
      "    accuracy                           0.40        75\n",
      "   macro avg       0.35      0.42      0.33        75\n",
      "weighted avg       0.34      0.40      0.32        75\n",
      "\n"
     ]
    },
    {
     "data": {
      "image/png": "[encoded data removed]",
      "text/plain": [
       "<Figure size 432x288 with 1 Axes>"
      ]
     },
     "metadata": {
      "needs_background": "light"
     },
     "output_type": "display_data"
    }
   ],
   "source": [
    "results = random_forest(X_train, X_test, y_train, y_test)\n",
    "plot = results[['Positive_Return', 'Predicted_Value']].tail(10).plot(kind=\"bar\")\n",
    "from sklearn.metrics import classification_report\n",
    "print(classification_report(results.Positive_Return,results.Predicted_Value))"
   ]
  },
  {
   "cell_type": "markdown",
   "metadata": {},
   "source": [
    "### Short-Horizon ML model, plot and evaluation"
   ]
  },
  {
   "cell_type": "code",
   "execution_count": 104,
   "metadata": {},
   "outputs": [
    {
     "name": "stderr",
     "output_type": "stream",
     "text": [
      "C:\\Users\\khuli\\anaconda3\\envs\\pyvizenv\\lib\\site-packages\\sklearn\\metrics\\_classification.py:1221: UndefinedMetricWarning: Precision and F-score are ill-defined and being set to 0.0 in labels with no predicted samples. Use `zero_division` parameter to control this behavior.\n",
      "  _warn_prf(average, modifier, msg_start, len(result))\n"
     ]
    },
    {
     "name": "stdout",
     "output_type": "stream",
     "text": [
      "              precision    recall  f1-score   support\n",
      "\n",
      "         0.0       0.00      0.00      0.00         2\n",
      "         1.0       0.67      1.00      0.80         4\n",
      "\n",
      "    accuracy                           0.67         6\n",
      "   macro avg       0.33      0.50      0.40         6\n",
      "weighted avg       0.44      0.67      0.53         6\n",
      "\n"
     ]
    },
    {
     "data": {
      "image/png": "[encoded data removed]",
      "text/plain": [
       "<Figure size 432x288 with 1 Axes>"
      ]
     },
     "metadata": {
      "needs_background": "light"
     },
     "output_type": "display_data"
    }
   ],
   "source": [
    "results = random_forest(X_train_2, X_test_2, y_train_2, y_test_2)\n",
    "plot = results[['Positive_Return', 'Predicted_Value']].tail(10).plot(kind=\"bar\")\n",
    "print(classification_report(results.Positive_Return,results.Predicted_Value))"
   ]
  },
  {
   "cell_type": "code",
   "execution_count": null,
   "metadata": {},
   "outputs": [],
   "source": []
  }
 ],
 "metadata": {
  "kernelspec": {
   "display_name": "Python [conda env:pyvizenv] *",
   "language": "python",
   "name": "conda-env-pyvizenv-py"
  },
  "language_info": {
   "codemirror_mode": {
    "name": "ipython",
    "version": 3
   },
   "file_extension": ".py",
   "mimetype": "text/x-python",
   "name": "python",
   "nbconvert_exporter": "python",
   "pygments_lexer": "ipython3",
   "version": "3.7.7"
  }
 },
 "nbformat": 4,
 "nbformat_minor": 4
}
